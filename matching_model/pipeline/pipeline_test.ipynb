{
  "nbformat": 4,
  "nbformat_minor": 0,
  "metadata": {
    "colab": {
      "provenance": [],
      "gpuType": "T4"
    },
    "kernelspec": {
      "name": "python3",
      "display_name": "Python 3"
    },
    "language_info": {
      "name": "python"
    },
    "accelerator": "GPU"
  },
  "cells": [
    {
      "cell_type": "code",
      "source": [
        "!pip install transformers\n",
        "!pip install umap-learn"
      ],
      "metadata": {
        "colab": {
          "base_uri": "https://localhost:8080/"
        },
        "id": "rgnkC1CKKluC",
        "outputId": "670365c2-7644-4c13-e5b6-947a48fa7bd8"
      },
      "execution_count": 1,
      "outputs": [
        {
          "output_type": "stream",
          "name": "stdout",
          "text": [
            "Requirement already satisfied: transformers in /usr/local/lib/python3.10/dist-packages (4.31.0)\n",
            "Requirement already satisfied: filelock in /usr/local/lib/python3.10/dist-packages (from transformers) (3.12.2)\n",
            "Requirement already satisfied: huggingface-hub<1.0,>=0.14.1 in /usr/local/lib/python3.10/dist-packages (from transformers) (0.16.4)\n",
            "Requirement already satisfied: numpy>=1.17 in /usr/local/lib/python3.10/dist-packages (from transformers) (1.23.5)\n",
            "Requirement already satisfied: packaging>=20.0 in /usr/local/lib/python3.10/dist-packages (from transformers) (23.1)\n",
            "Requirement already satisfied: pyyaml>=5.1 in /usr/local/lib/python3.10/dist-packages (from transformers) (6.0.1)\n",
            "Requirement already satisfied: regex!=2019.12.17 in /usr/local/lib/python3.10/dist-packages (from transformers) (2023.6.3)\n",
            "Requirement already satisfied: requests in /usr/local/lib/python3.10/dist-packages (from transformers) (2.31.0)\n",
            "Requirement already satisfied: tokenizers!=0.11.3,<0.14,>=0.11.1 in /usr/local/lib/python3.10/dist-packages (from transformers) (0.13.3)\n",
            "Requirement already satisfied: safetensors>=0.3.1 in /usr/local/lib/python3.10/dist-packages (from transformers) (0.3.2)\n",
            "Requirement already satisfied: tqdm>=4.27 in /usr/local/lib/python3.10/dist-packages (from transformers) (4.66.1)\n",
            "Requirement already satisfied: fsspec in /usr/local/lib/python3.10/dist-packages (from huggingface-hub<1.0,>=0.14.1->transformers) (2023.6.0)\n",
            "Requirement already satisfied: typing-extensions>=3.7.4.3 in /usr/local/lib/python3.10/dist-packages (from huggingface-hub<1.0,>=0.14.1->transformers) (4.7.1)\n",
            "Requirement already satisfied: charset-normalizer<4,>=2 in /usr/local/lib/python3.10/dist-packages (from requests->transformers) (3.2.0)\n",
            "Requirement already satisfied: idna<4,>=2.5 in /usr/local/lib/python3.10/dist-packages (from requests->transformers) (3.4)\n",
            "Requirement already satisfied: urllib3<3,>=1.21.1 in /usr/local/lib/python3.10/dist-packages (from requests->transformers) (2.0.4)\n",
            "Requirement already satisfied: certifi>=2017.4.17 in /usr/local/lib/python3.10/dist-packages (from requests->transformers) (2023.7.22)\n",
            "Requirement already satisfied: umap-learn in /usr/local/lib/python3.10/dist-packages (0.5.3)\n",
            "Requirement already satisfied: numpy>=1.17 in /usr/local/lib/python3.10/dist-packages (from umap-learn) (1.23.5)\n",
            "Requirement already satisfied: scikit-learn>=0.22 in /usr/local/lib/python3.10/dist-packages (from umap-learn) (1.2.2)\n",
            "Requirement already satisfied: scipy>=1.0 in /usr/local/lib/python3.10/dist-packages (from umap-learn) (1.10.1)\n",
            "Requirement already satisfied: numba>=0.49 in /usr/local/lib/python3.10/dist-packages (from umap-learn) (0.56.4)\n",
            "Requirement already satisfied: pynndescent>=0.5 in /usr/local/lib/python3.10/dist-packages (from umap-learn) (0.5.10)\n",
            "Requirement already satisfied: tqdm in /usr/local/lib/python3.10/dist-packages (from umap-learn) (4.66.1)\n",
            "Requirement already satisfied: llvmlite<0.40,>=0.39.0dev0 in /usr/local/lib/python3.10/dist-packages (from numba>=0.49->umap-learn) (0.39.1)\n",
            "Requirement already satisfied: setuptools in /usr/local/lib/python3.10/dist-packages (from numba>=0.49->umap-learn) (67.7.2)\n",
            "Requirement already satisfied: joblib>=0.11 in /usr/local/lib/python3.10/dist-packages (from pynndescent>=0.5->umap-learn) (1.3.2)\n",
            "Requirement already satisfied: threadpoolctl>=2.0.0 in /usr/local/lib/python3.10/dist-packages (from scikit-learn>=0.22->umap-learn) (3.2.0)\n"
          ]
        }
      ]
    },
    {
      "cell_type": "code",
      "source": [
        "from google.colab import drive\n",
        "import pandas as pd\n",
        "from pipeline import Pipeline\n",
        "\n",
        "drive.mount('/content/drive')"
      ],
      "metadata": {
        "colab": {
          "base_uri": "https://localhost:8080/"
        },
        "id": "elnMRq5_Kq0N",
        "outputId": "bf614c9d-939d-44af-d232-d8225ff8e460"
      },
      "execution_count": 2,
      "outputs": [
        {
          "output_type": "stream",
          "name": "stdout",
          "text": [
            "Drive already mounted at /content/drive; to attempt to forcibly remount, call drive.mount(\"/content/drive\", force_remount=True).\n"
          ]
        }
      ]
    },
    {
      "cell_type": "markdown",
      "source": [
        "# Тест"
      ],
      "metadata": {
        "id": "ncR8aCAILy1T"
      }
    },
    {
      "cell_type": "code",
      "source": [
        "data = pd.read_csv('/content/drive/MyDrive/sarawan_data/data/prepared_data/new_auchan_perek_without_ingredients.csv', nrows=100)\n",
        "data.reset_index(inplace=True, drop=True)\n",
        "data.head()"
      ],
      "metadata": {
        "colab": {
          "base_uri": "https://localhost:8080/",
          "height": 501
        },
        "id": "RuxM9OEVaDT4",
        "outputId": "89a94511-ea16-4cda-ba07-6a1c608fc9b8"
      },
      "execution_count": 3,
      "outputs": [
        {
          "output_type": "execute_result",
          "data": {
            "text/plain": [
              "                                                name  \\\n",
              "0           Торт Kristof клубника со сливками, 450 г   \n",
              "1  Набор одноразовых стаканов Actuel пластик, 20х...   \n",
              "2              Сироп «Баринофф» десертный Вишня, 1 л   \n",
              "3  Пирожное «Медвежонок Барни» бисквитное с молоч...   \n",
              "4  Пирожное «Медвежонок Барни» бисквитное со сгущ...   \n",
              "\n",
              "                                               image  \\\n",
              "0  small_1000d62a27c1704e71336b046d4e4f3838e85f75...   \n",
              "1  small_4ed8d12281a9102b9777887b51b814195a190945...   \n",
              "2  small_4abc7e4195076a6538d2ef5e84c89bcca4b73702...   \n",
              "3  small_7c4033e6867cdcfbdb3a847dc97d2401f06ce2d5...   \n",
              "4  small_bdbe36876182b6fd32dc9e0989ecfa0fef23baa1...   \n",
              "\n",
              "                                          attributes      cat1  \\\n",
              "0  {'Бренд': 'Kristof', 'Вид упаковки': 'Пластик'...  Сладости   \n",
              "1  {'Бренд': 'Actuel', 'Масса нетто, кг': '0.2', ...     Кухня   \n",
              "2  {'Бренд': 'Баринофф', 'Упаковка': 'Стеклянная ...  Сладости   \n",
              "3  {'Бренд': 'Барни', 'Белки на 100 г, г': '6', '...  Сладости   \n",
              "4  {'Бренд': 'Барни', 'Белки на 100 г, г': '6', '...  Сладости   \n",
              "\n",
              "                cat2                                attributes_prepared  \\\n",
              "0              Торты  kristof пластик ягодный 4.4 19 0.45 0.499 моло...   \n",
              "1    Стаканы, бокалы  actuel 0.2 0.2 71 117 310 россия 0.2 кг 20х200 мл   \n",
              "2             Сиропы  баринофф стеклянный бутылка сироп сироп вишнёв...   \n",
              "3  Пирожные, десерты  барни 6 15 0.15 0.16 мука пшеничный сироп глюк...   \n",
              "4  Пирожные, десерты  барни 6 15 0.15 0.16 мука пшеничный сироп глюк...   \n",
              "\n",
              "                                   common_attributes  \\\n",
              "0  kristof пластик ягодный молоко  крем маскарпон...   \n",
              "1                                             actuel   \n",
              "2  баринофф сироп сироп сахар  вода питьевой  сок...   \n",
              "3  барни мука пшеничный  сироп глюкозный фруктозн...   \n",
              "4  барни мука пшеничный  сироп глюкозный фруктозн...   \n",
              "\n",
              "                                       name_prepared  cat3  \n",
              "0                       торт kristof клубника сливка   NaN  \n",
              "1            набор одноразовый стакан actuel пластик   NaN  \n",
              "2                     сироп баринофф десертный вишня   NaN  \n",
              "3               пирожное медвежонок барни бисквитный   NaN  \n",
              "4  пирожное медвежонок барни бисквитный сгустить ...   NaN  "
            ],
            "text/html": [
              "\n",
              "  <div id=\"df-563adce7-aaee-4e0e-8d91-480c00e91a39\" class=\"colab-df-container\">\n",
              "    <div>\n",
              "<style scoped>\n",
              "    .dataframe tbody tr th:only-of-type {\n",
              "        vertical-align: middle;\n",
              "    }\n",
              "\n",
              "    .dataframe tbody tr th {\n",
              "        vertical-align: top;\n",
              "    }\n",
              "\n",
              "    .dataframe thead th {\n",
              "        text-align: right;\n",
              "    }\n",
              "</style>\n",
              "<table border=\"1\" class=\"dataframe\">\n",
              "  <thead>\n",
              "    <tr style=\"text-align: right;\">\n",
              "      <th></th>\n",
              "      <th>name</th>\n",
              "      <th>image</th>\n",
              "      <th>attributes</th>\n",
              "      <th>cat1</th>\n",
              "      <th>cat2</th>\n",
              "      <th>attributes_prepared</th>\n",
              "      <th>common_attributes</th>\n",
              "      <th>name_prepared</th>\n",
              "      <th>cat3</th>\n",
              "    </tr>\n",
              "  </thead>\n",
              "  <tbody>\n",
              "    <tr>\n",
              "      <th>0</th>\n",
              "      <td>Торт Kristof клубника со сливками, 450 г</td>\n",
              "      <td>small_1000d62a27c1704e71336b046d4e4f3838e85f75...</td>\n",
              "      <td>{'Бренд': 'Kristof', 'Вид упаковки': 'Пластик'...</td>\n",
              "      <td>Сладости</td>\n",
              "      <td>Торты</td>\n",
              "      <td>kristof пластик ягодный 4.4 19 0.45 0.499 моло...</td>\n",
              "      <td>kristof пластик ягодный молоко  крем маскарпон...</td>\n",
              "      <td>торт kristof клубника сливка</td>\n",
              "      <td>NaN</td>\n",
              "    </tr>\n",
              "    <tr>\n",
              "      <th>1</th>\n",
              "      <td>Набор одноразовых стаканов Actuel пластик, 20х...</td>\n",
              "      <td>small_4ed8d12281a9102b9777887b51b814195a190945...</td>\n",
              "      <td>{'Бренд': 'Actuel', 'Масса нетто, кг': '0.2', ...</td>\n",
              "      <td>Кухня</td>\n",
              "      <td>Стаканы, бокалы</td>\n",
              "      <td>actuel 0.2 0.2 71 117 310 россия 0.2 кг 20х200 мл</td>\n",
              "      <td>actuel</td>\n",
              "      <td>набор одноразовый стакан actuel пластик</td>\n",
              "      <td>NaN</td>\n",
              "    </tr>\n",
              "    <tr>\n",
              "      <th>2</th>\n",
              "      <td>Сироп «Баринофф» десертный Вишня, 1 л</td>\n",
              "      <td>small_4abc7e4195076a6538d2ef5e84c89bcca4b73702...</td>\n",
              "      <td>{'Бренд': 'Баринофф', 'Упаковка': 'Стеклянная ...</td>\n",
              "      <td>Сладости</td>\n",
              "      <td>Сиропы</td>\n",
              "      <td>баринофф стеклянный бутылка сироп сироп вишнёв...</td>\n",
              "      <td>баринофф сироп сироп сахар  вода питьевой  сок...</td>\n",
              "      <td>сироп баринофф десертный вишня</td>\n",
              "      <td>NaN</td>\n",
              "    </tr>\n",
              "    <tr>\n",
              "      <th>3</th>\n",
              "      <td>Пирожное «Медвежонок Барни» бисквитное с молоч...</td>\n",
              "      <td>small_7c4033e6867cdcfbdb3a847dc97d2401f06ce2d5...</td>\n",
              "      <td>{'Бренд': 'Барни', 'Белки на 100 г, г': '6', '...</td>\n",
              "      <td>Сладости</td>\n",
              "      <td>Пирожные, десерты</td>\n",
              "      <td>барни 6 15 0.15 0.16 мука пшеничный сироп глюк...</td>\n",
              "      <td>барни мука пшеничный  сироп глюкозный фруктозн...</td>\n",
              "      <td>пирожное медвежонок барни бисквитный</td>\n",
              "      <td>NaN</td>\n",
              "    </tr>\n",
              "    <tr>\n",
              "      <th>4</th>\n",
              "      <td>Пирожное «Медвежонок Барни» бисквитное со сгущ...</td>\n",
              "      <td>small_bdbe36876182b6fd32dc9e0989ecfa0fef23baa1...</td>\n",
              "      <td>{'Бренд': 'Барни', 'Белки на 100 г, г': '6', '...</td>\n",
              "      <td>Сладости</td>\n",
              "      <td>Пирожные, десерты</td>\n",
              "      <td>барни 6 15 0.15 0.16 мука пшеничный сироп глюк...</td>\n",
              "      <td>барни мука пшеничный  сироп глюкозный фруктозн...</td>\n",
              "      <td>пирожное медвежонок барни бисквитный сгустить ...</td>\n",
              "      <td>NaN</td>\n",
              "    </tr>\n",
              "  </tbody>\n",
              "</table>\n",
              "</div>\n",
              "    <div class=\"colab-df-buttons\">\n",
              "\n",
              "  <div class=\"colab-df-container\">\n",
              "    <button class=\"colab-df-convert\" onclick=\"convertToInteractive('df-563adce7-aaee-4e0e-8d91-480c00e91a39')\"\n",
              "            title=\"Convert this dataframe to an interactive table.\"\n",
              "            style=\"display:none;\">\n",
              "\n",
              "  <svg xmlns=\"http://www.w3.org/2000/svg\" height=\"24px\" viewBox=\"0 -960 960 960\">\n",
              "    <path d=\"M120-120v-720h720v720H120Zm60-500h600v-160H180v160Zm220 220h160v-160H400v160Zm0 220h160v-160H400v160ZM180-400h160v-160H180v160Zm440 0h160v-160H620v160ZM180-180h160v-160H180v160Zm440 0h160v-160H620v160Z\"/>\n",
              "  </svg>\n",
              "    </button>\n",
              "\n",
              "  <style>\n",
              "    .colab-df-container {\n",
              "      display:flex;\n",
              "      gap: 12px;\n",
              "    }\n",
              "\n",
              "    .colab-df-convert {\n",
              "      background-color: #E8F0FE;\n",
              "      border: none;\n",
              "      border-radius: 50%;\n",
              "      cursor: pointer;\n",
              "      display: none;\n",
              "      fill: #1967D2;\n",
              "      height: 32px;\n",
              "      padding: 0 0 0 0;\n",
              "      width: 32px;\n",
              "    }\n",
              "\n",
              "    .colab-df-convert:hover {\n",
              "      background-color: #E2EBFA;\n",
              "      box-shadow: 0px 1px 2px rgba(60, 64, 67, 0.3), 0px 1px 3px 1px rgba(60, 64, 67, 0.15);\n",
              "      fill: #174EA6;\n",
              "    }\n",
              "\n",
              "    .colab-df-buttons div {\n",
              "      margin-bottom: 4px;\n",
              "    }\n",
              "\n",
              "    [theme=dark] .colab-df-convert {\n",
              "      background-color: #3B4455;\n",
              "      fill: #D2E3FC;\n",
              "    }\n",
              "\n",
              "    [theme=dark] .colab-df-convert:hover {\n",
              "      background-color: #434B5C;\n",
              "      box-shadow: 0px 1px 3px 1px rgba(0, 0, 0, 0.15);\n",
              "      filter: drop-shadow(0px 1px 2px rgba(0, 0, 0, 0.3));\n",
              "      fill: #FFFFFF;\n",
              "    }\n",
              "  </style>\n",
              "\n",
              "    <script>\n",
              "      const buttonEl =\n",
              "        document.querySelector('#df-563adce7-aaee-4e0e-8d91-480c00e91a39 button.colab-df-convert');\n",
              "      buttonEl.style.display =\n",
              "        google.colab.kernel.accessAllowed ? 'block' : 'none';\n",
              "\n",
              "      async function convertToInteractive(key) {\n",
              "        const element = document.querySelector('#df-563adce7-aaee-4e0e-8d91-480c00e91a39');\n",
              "        const dataTable =\n",
              "          await google.colab.kernel.invokeFunction('convertToInteractive',\n",
              "                                                    [key], {});\n",
              "        if (!dataTable) return;\n",
              "\n",
              "        const docLinkHtml = 'Like what you see? Visit the ' +\n",
              "          '<a target=\"_blank\" href=https://colab.research.google.com/notebooks/data_table.ipynb>data table notebook</a>'\n",
              "          + ' to learn more about interactive tables.';\n",
              "        element.innerHTML = '';\n",
              "        dataTable['output_type'] = 'display_data';\n",
              "        await google.colab.output.renderOutput(dataTable, element);\n",
              "        const docLink = document.createElement('div');\n",
              "        docLink.innerHTML = docLinkHtml;\n",
              "        element.appendChild(docLink);\n",
              "      }\n",
              "    </script>\n",
              "  </div>\n",
              "\n",
              "\n",
              "<div id=\"df-6b1b88a6-fdb1-4398-8b75-46a4043c036d\">\n",
              "  <button class=\"colab-df-quickchart\" onclick=\"quickchart('df-6b1b88a6-fdb1-4398-8b75-46a4043c036d')\"\n",
              "            title=\"Suggest charts.\"\n",
              "            style=\"display:none;\">\n",
              "\n",
              "<svg xmlns=\"http://www.w3.org/2000/svg\" height=\"24px\"viewBox=\"0 0 24 24\"\n",
              "     width=\"24px\">\n",
              "    <g>\n",
              "        <path d=\"M19 3H5c-1.1 0-2 .9-2 2v14c0 1.1.9 2 2 2h14c1.1 0 2-.9 2-2V5c0-1.1-.9-2-2-2zM9 17H7v-7h2v7zm4 0h-2V7h2v10zm4 0h-2v-4h2v4z\"/>\n",
              "    </g>\n",
              "</svg>\n",
              "  </button>\n",
              "\n",
              "<style>\n",
              "  .colab-df-quickchart {\n",
              "    background-color: #E8F0FE;\n",
              "    border: none;\n",
              "    border-radius: 50%;\n",
              "    cursor: pointer;\n",
              "    display: none;\n",
              "    fill: #1967D2;\n",
              "    height: 32px;\n",
              "    padding: 0 0 0 0;\n",
              "    width: 32px;\n",
              "  }\n",
              "\n",
              "  .colab-df-quickchart:hover {\n",
              "    background-color: #E2EBFA;\n",
              "    box-shadow: 0px 1px 2px rgba(60, 64, 67, 0.3), 0px 1px 3px 1px rgba(60, 64, 67, 0.15);\n",
              "    fill: #174EA6;\n",
              "  }\n",
              "\n",
              "  [theme=dark] .colab-df-quickchart {\n",
              "    background-color: #3B4455;\n",
              "    fill: #D2E3FC;\n",
              "  }\n",
              "\n",
              "  [theme=dark] .colab-df-quickchart:hover {\n",
              "    background-color: #434B5C;\n",
              "    box-shadow: 0px 1px 3px 1px rgba(0, 0, 0, 0.15);\n",
              "    filter: drop-shadow(0px 1px 2px rgba(0, 0, 0, 0.3));\n",
              "    fill: #FFFFFF;\n",
              "  }\n",
              "</style>\n",
              "\n",
              "  <script>\n",
              "    async function quickchart(key) {\n",
              "      const charts = await google.colab.kernel.invokeFunction(\n",
              "          'suggestCharts', [key], {});\n",
              "    }\n",
              "    (() => {\n",
              "      let quickchartButtonEl =\n",
              "        document.querySelector('#df-6b1b88a6-fdb1-4398-8b75-46a4043c036d button');\n",
              "      quickchartButtonEl.style.display =\n",
              "        google.colab.kernel.accessAllowed ? 'block' : 'none';\n",
              "    })();\n",
              "  </script>\n",
              "</div>\n",
              "    </div>\n",
              "  </div>\n"
            ]
          },
          "metadata": {},
          "execution_count": 3
        }
      ]
    },
    {
      "cell_type": "code",
      "source": [
        "pipeline = Pipeline(data, './all_photos/')\n",
        "pipeline.extract_zip('/content/drive/MyDrive/sarawan_data/data/photo/auchan_perekrestok.zip')  # разархивировать фотки в локальную папку"
      ],
      "metadata": {
        "id": "fKZEJF9RDHEp"
      },
      "execution_count": null,
      "outputs": []
    },
    {
      "cell_type": "code",
      "source": [
        "pipeline = Pipeline(data, './all_photos/')  # data - данные со столбами names_prepared и т.д. img_dir - путь к папке где лежат фотки (по умолчанию ./all_photos/)\n",
        "pipeline.train(num_epoch=10)"
      ],
      "metadata": {
        "colab": {
          "base_uri": "https://localhost:8080/"
        },
        "id": "dG4BGc12L0m9",
        "outputId": "52ace1ba-7029-4cd4-874b-7ba1ff38d488"
      },
      "execution_count": 4,
      "outputs": [
        {
          "output_type": "stream",
          "name": "stderr",
          "text": [
            "/usr/local/lib/python3.10/dist-packages/torchvision/models/_utils.py:208: UserWarning: The parameter 'pretrained' is deprecated since 0.13 and may be removed in the future, please use 'weights' instead.\n",
            "  warnings.warn(\n",
            "/usr/local/lib/python3.10/dist-packages/torchvision/models/_utils.py:223: UserWarning: Arguments other than a weight enum or `None` for 'weights' are deprecated since 0.13 and may be removed in the future. The current behavior is equivalent to passing `weights=ResNet34_Weights.IMAGENET1K_V1`. You can also use `weights=ResNet34_Weights.DEFAULT` to get the most up-to-date weights.\n",
            "  warnings.warn(msg)\n",
            "Some weights of BertForSequenceClassification were not initialized from the model checkpoint at cointegrated/rubert-tiny2 and are newly initialized: ['classifier.bias', 'classifier.weight']\n",
            "You should probably TRAIN this model on a down-stream task to be able to use it for predictions and inference.\n",
            "Some weights of BertForSequenceClassification were not initialized from the model checkpoint at cointegrated/rubert-tiny2 and are newly initialized: ['classifier.bias', 'classifier.weight']\n",
            "You should probably TRAIN this model on a down-stream task to be able to use it for predictions and inference.\n",
            "100%|██████████| 10/10 [00:02<00:00,  3.38it/s]\n"
          ]
        },
        {
          "output_type": "stream",
          "name": "stdout",
          "text": [
            "Epoch [0], img_loss: 1.729184377193451, attr_loss: 1.8483033657073975, names_bert_loss: 1.7792226195335388, arc_loss: 3.187536692619324, main_loss: 4.27212347984314\n",
            "\n",
            "Epoch [0], img_accuracy1: 0.23, attr_accuracy1: 0.02, names_bert_accuracy1: 0.13, arc_accuracy1: 0.04\n",
            "\n",
            "Epoch [0], img_accuracy5: 0.96, attr_accuracy5: 0.72, names_bert_accuracy5: 0.89, arc_accuracy5: 0.29\n",
            "\n",
            "\n"
          ]
        },
        {
          "output_type": "stream",
          "name": "stderr",
          "text": [
            "100%|██████████| 10/10 [00:01<00:00,  7.13it/s]\n"
          ]
        },
        {
          "output_type": "stream",
          "name": "stdout",
          "text": [
            "Epoch [1], img_loss: 1.7178698301315307, attr_loss: 1.8436806321144104, names_bert_loss: 1.7814574360847473, arc_loss: 3.098329520225525, main_loss: 3.8752132654190063\n",
            "\n",
            "Epoch [1], img_accuracy1: 0.21000000000000002, attr_accuracy1: 0.030000000000000002, names_bert_accuracy1: 0.1, arc_accuracy1: 0.030000000000000002\n",
            "\n",
            "Epoch [1], img_accuracy5: 0.96, attr_accuracy5: 0.74, names_bert_accuracy5: 0.86, arc_accuracy5: 0.32\n",
            "\n",
            "\n"
          ]
        },
        {
          "output_type": "stream",
          "name": "stderr",
          "text": [
            "100%|██████████| 10/10 [00:01<00:00,  5.67it/s]\n"
          ]
        },
        {
          "output_type": "stream",
          "name": "stdout",
          "text": [
            "Epoch [2], img_loss: 1.6974289774894715, attr_loss: 1.8398123145103455, names_bert_loss: 1.7797487378120422, arc_loss: 3.029466414451599, main_loss: 3.5774904251098634\n",
            "\n",
            "Epoch [2], img_accuracy1: 0.21000000000000002, attr_accuracy1: 0.030000000000000002, names_bert_accuracy1: 0.11, arc_accuracy1: 0.030000000000000002\n",
            "\n",
            "Epoch [2], img_accuracy5: 0.96, attr_accuracy5: 0.75, names_bert_accuracy5: 0.89, arc_accuracy5: 0.35000000000000003\n",
            "\n",
            "\n"
          ]
        },
        {
          "output_type": "stream",
          "name": "stderr",
          "text": [
            "100%|██████████| 10/10 [00:01<00:00,  6.42it/s]\n"
          ]
        },
        {
          "output_type": "stream",
          "name": "stdout",
          "text": [
            "Epoch [3], img_loss: 1.6698527812957764, attr_loss: 1.848485493659973, names_bert_loss: 1.7760385036468507, arc_loss: 2.972976231575012, main_loss: 3.357936644554138\n",
            "\n",
            "Epoch [3], img_accuracy1: 0.24000000000000002, attr_accuracy1: 0.02, names_bert_accuracy1: 0.13, arc_accuracy1: 0.0\n",
            "\n",
            "Epoch [3], img_accuracy5: 0.97, attr_accuracy5: 0.7, names_bert_accuracy5: 0.87, arc_accuracy5: 0.38\n",
            "\n",
            "\n"
          ]
        },
        {
          "output_type": "stream",
          "name": "stderr",
          "text": [
            "100%|██████████| 10/10 [00:02<00:00,  4.59it/s]\n"
          ]
        },
        {
          "output_type": "stream",
          "name": "stdout",
          "text": [
            "Epoch [4], img_loss: 1.6453279376029968, attr_loss: 1.8488431811332702, names_bert_loss: 1.771598744392395, arc_loss: 2.92738881111145, main_loss: 3.1958077430725096\n",
            "\n",
            "Epoch [4], img_accuracy1: 0.24, attr_accuracy1: 0.02, names_bert_accuracy1: 0.1, arc_accuracy1: 0.05\n",
            "\n",
            "Epoch [4], img_accuracy5: 0.97, attr_accuracy5: 0.7, names_bert_accuracy5: 0.9, arc_accuracy5: 0.45\n",
            "\n",
            "\n"
          ]
        },
        {
          "output_type": "stream",
          "name": "stderr",
          "text": [
            "100%|██████████| 10/10 [00:01<00:00,  5.14it/s]\n"
          ]
        },
        {
          "output_type": "stream",
          "name": "stdout",
          "text": [
            "Epoch [5], img_loss: 1.6229077100753784, attr_loss: 1.8447096586227416, names_bert_loss: 1.7765047550201416, arc_loss: 2.891444945335388, main_loss: 3.0783807754516603\n",
            "\n",
            "Epoch [5], img_accuracy1: 0.3, attr_accuracy1: 0.02, names_bert_accuracy1: 0.1, arc_accuracy1: 0.05\n",
            "\n",
            "Epoch [5], img_accuracy5: 0.97, attr_accuracy5: 0.74, names_bert_accuracy5: 0.91, arc_accuracy5: 0.47\n",
            "\n",
            "\n"
          ]
        },
        {
          "output_type": "stream",
          "name": "stderr",
          "text": [
            "100%|██████████| 10/10 [00:02<00:00,  4.94it/s]\n"
          ]
        },
        {
          "output_type": "stream",
          "name": "stdout",
          "text": [
            "Epoch [6], img_loss: 1.600710427761078, attr_loss: 1.8371737480163575, names_bert_loss: 1.776855754852295, arc_loss: 2.7809425830841064, main_loss: 2.914801239967346\n",
            "\n",
            "Epoch [6], img_accuracy1: 0.33, attr_accuracy1: 0.02, names_bert_accuracy1: 0.11, arc_accuracy1: 0.11\n",
            "\n",
            "Epoch [6], img_accuracy5: 0.97, attr_accuracy5: 0.77, names_bert_accuracy5: 0.88, arc_accuracy5: 0.47\n",
            "\n",
            "\n"
          ]
        },
        {
          "output_type": "stream",
          "name": "stderr",
          "text": [
            "100%|██████████| 10/10 [00:02<00:00,  4.60it/s]\n"
          ]
        },
        {
          "output_type": "stream",
          "name": "stdout",
          "text": [
            "Epoch [7], img_loss: 1.5841130137443542, attr_loss: 1.8432191014289856, names_bert_loss: 1.7769298076629638, arc_loss: 2.780910301208496, main_loss: 2.8731696128845217\n",
            "\n",
            "Epoch [7], img_accuracy1: 0.33, attr_accuracy1: 0.030000000000000002, names_bert_accuracy1: 0.14, arc_accuracy1: 0.060000000000000005\n",
            "\n",
            "Epoch [7], img_accuracy5: 0.97, attr_accuracy5: 0.71, names_bert_accuracy5: 0.87, arc_accuracy5: 0.51\n",
            "\n",
            "\n"
          ]
        },
        {
          "output_type": "stream",
          "name": "stderr",
          "text": [
            "100%|██████████| 10/10 [00:03<00:00,  3.19it/s]\n"
          ]
        },
        {
          "output_type": "stream",
          "name": "stdout",
          "text": [
            "Epoch [8], img_loss: 1.5718002319335938, attr_loss: 1.8423335552215576, names_bert_loss: 1.7786097407341004, arc_loss: 2.7413246870040893, main_loss: 2.8059263229370117\n",
            "\n",
            "Epoch [8], img_accuracy1: 0.33, attr_accuracy1: 0.030000000000000002, names_bert_accuracy1: 0.12, arc_accuracy1: 0.17\n",
            "\n",
            "Epoch [8], img_accuracy5: 0.97, attr_accuracy5: 0.78, names_bert_accuracy5: 0.89, arc_accuracy5: 0.49\n",
            "\n",
            "\n"
          ]
        },
        {
          "output_type": "stream",
          "name": "stderr",
          "text": [
            "100%|██████████| 10/10 [00:01<00:00,  6.05it/s]\n"
          ]
        },
        {
          "output_type": "stream",
          "name": "stdout",
          "text": [
            "Epoch [9], img_loss: 1.5650295972824098, attr_loss: 1.8447143316268921, names_bert_loss: 1.775761365890503, arc_loss: 2.659498858451843, main_loss: 2.705576705932617\n",
            "\n",
            "Epoch [9], img_accuracy1: 0.33, attr_accuracy1: 0.02, names_bert_accuracy1: 0.08, arc_accuracy1: 0.18000000000000002\n",
            "\n",
            "Epoch [9], img_accuracy5: 0.97, attr_accuracy5: 0.72, names_bert_accuracy5: 0.92, arc_accuracy5: 0.57\n",
            "\n",
            "\n"
          ]
        }
      ]
    },
    {
      "cell_type": "code",
      "source": [
        "pairs = pipeline.predict()  # возвращает пары [[косинус на 1 этапе, косинус на 2 этапе], индекс1, индекс2]"
      ],
      "metadata": {
        "colab": {
          "base_uri": "https://localhost:8080/"
        },
        "id": "_UpcdmWQ0K5L",
        "outputId": "525256ed-d6d7-4581-981c-711e5f7951d9"
      },
      "execution_count": 5,
      "outputs": [
        {
          "output_type": "stream",
          "name": "stderr",
          "text": [
            "/usr/local/lib/python3.10/dist-packages/torchvision/models/_utils.py:208: UserWarning:\n",
            "\n",
            "The parameter 'pretrained' is deprecated since 0.13 and may be removed in the future, please use 'weights' instead.\n",
            "\n",
            "/usr/local/lib/python3.10/dist-packages/torchvision/models/_utils.py:223: UserWarning:\n",
            "\n",
            "Arguments other than a weight enum or `None` for 'weights' are deprecated since 0.13 and may be removed in the future. The current behavior is equivalent to passing `weights=ResNet34_Weights.IMAGENET1K_V1`. You can also use `weights=ResNet34_Weights.DEFAULT` to get the most up-to-date weights.\n",
            "\n",
            "Some weights of BertForSequenceClassification were not initialized from the model checkpoint at cointegrated/rubert-tiny2 and are newly initialized: ['classifier.bias', 'classifier.weight']\n",
            "You should probably TRAIN this model on a down-stream task to be able to use it for predictions and inference.\n",
            "Some weights of BertForSequenceClassification were not initialized from the model checkpoint at cointegrated/rubert-tiny2 and are newly initialized: ['classifier.bias', 'classifier.weight']\n",
            "You should probably TRAIN this model on a down-stream task to be able to use it for predictions and inference.\n",
            "100%|██████████| 10/10 [00:00<00:00, 11.18it/s]\n",
            "100%|██████████| 6/6 [00:00<00:00, 77.20it/s]"
          ]
        },
        {
          "output_type": "stream",
          "name": "stdout",
          "text": [
            "\n",
            "\n",
            "Найденные идентичные продукты на 1-ом уровне с threshold = 0.7: [['Красота, гигиена, аптека', 0], ['Алкогольные напитки', 0], ['Сладости', 0], ['Снеки', 0], ['Кухня', 25], ['Молочные продукты', 0]]\n",
            "Найденные идентичные продукты на 2-ом уровне с threshold = 0.999: 2\n"
          ]
        },
        {
          "output_type": "stream",
          "name": "stderr",
          "text": [
            "\n"
          ]
        }
      ]
    },
    {
      "cell_type": "code",
      "source": [
        "pairs"
      ],
      "metadata": {
        "colab": {
          "base_uri": "https://localhost:8080/"
        },
        "id": "dVX0KtTK_pB2",
        "outputId": "b37367a6-3000-4053-cb6a-12d9eea2c1c2"
      },
      "execution_count": 6,
      "outputs": [
        {
          "output_type": "execute_result",
          "data": {
            "text/plain": [
              "[[0.8114847469903167, array([[1.0000001]], dtype=float32), 17, 29],\n",
              " [0.9984135553408451, array([[1.0000001]], dtype=float32), 78, 79]]"
            ]
          },
          "metadata": {},
          "execution_count": 6
        }
      ]
    },
    {
      "cell_type": "code",
      "source": [
        "pipeline._show_imgs(data, 78, 79)"
      ],
      "metadata": {
        "colab": {
          "base_uri": "https://localhost:8080/",
          "height": 295
        },
        "id": "oYBjGOGsCVi8",
        "outputId": "899b4397-dfc5-4052-afc0-f99112cffa8f"
      },
      "execution_count": 8,
      "outputs": [
        {
          "output_type": "display_data",
          "data": {
            "text/plain": [
              "<Figure size 2000x1000 with 0 Axes>"
            ]
          },
          "metadata": {}
        },
        {
          "output_type": "display_data",
          "data": {
            "text/plain": [
              "<Figure size 640x480 with 2 Axes>"
            ],
            "image/png": "[encoded data removed]"
          },
          "metadata": {}
        }
      ]
    },
    {
      "cell_type": "code",
      "source": [],
      "metadata": {
        "id": "Z_SZLLK_DTqe"
      },
      "execution_count": null,
      "outputs": []
    }
  ]
}
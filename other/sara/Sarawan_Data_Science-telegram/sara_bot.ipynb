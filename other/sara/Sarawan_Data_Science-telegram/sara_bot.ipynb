{
 "cells": [
  {
   "cell_type": "markdown",
   "metadata": {
    "id": "CTziGPd4pqgO"
   },
   "source": [
    "Подключаем библиотеки"
   ]
  },
  {
   "cell_type": "code",
   "execution_count": 1,
   "metadata": {
    "executionInfo": {
     "elapsed": 431,
     "status": "ok",
     "timestamp": 1647875595520,
     "user": {
      "displayName": "Denis Akatov",
      "photoUrl": "https://lh3.googleusercontent.com/a/default-user=s64",
      "userId": "09749566900557652478"
     },
     "user_tz": -180
    },
    "id": "kelweO9gT2A5"
   },
   "outputs": [],
   "source": [
    "import json\n",
    "from pprint import pprint\n",
    "import pandas as pd\n",
    "import os\n",
    "import re\n",
    "from telegram import ParseMode\n",
    "import tg_analytic\n"
   ]
  },
  {
   "cell_type": "markdown",
   "metadata": {
    "id": "AchCdq8Kpt8s"
   },
   "source": [
    "Подключаем телеграм"
   ]
  },
  {
   "cell_type": "code",
   "execution_count": 2,
   "metadata": {
    "colab": {
     "base_uri": "https://localhost:8080/"
    },
    "executionInfo": {
     "elapsed": 3498,
     "status": "ok",
     "timestamp": 1647875599013,
     "user": {
      "displayName": "Denis Akatov",
      "photoUrl": "https://lh3.googleusercontent.com/a/default-user=s64",
      "userId": "09749566900557652478"
     },
     "user_tz": -180
    },
    "id": "rRVGqwFnq4ox",
    "outputId": "6ebd6173-42a9-49c0-9204-878818c8e159"
   },
   "outputs": [],
   "source": [
    "# !pip install python-telegram-bot --upgrade"
   ]
  },
  {
   "cell_type": "code",
   "execution_count": 3,
   "metadata": {
    "executionInfo": {
     "elapsed": 19,
     "status": "ok",
     "timestamp": 1647875599015,
     "user": {
      "displayName": "Denis Akatov",
      "photoUrl": "https://lh3.googleusercontent.com/a/default-user=s64",
      "userId": "09749566900557652478"
     },
     "user_tz": -180
    },
    "id": "uqu6JBzNpvPC"
   },
   "outputs": [],
   "source": [
    "import logging\n",
    "\n",
    "from telegram import Update\n",
    "from telegram.ext import Updater, CommandHandler, MessageHandler, Filters, CallbackContext"
   ]
  },
  {
   "cell_type": "code",
   "execution_count": 4,
   "metadata": {
    "executionInfo": {
     "elapsed": 17,
     "status": "ok",
     "timestamp": 1647875599016,
     "user": {
      "displayName": "Denis Akatov",
      "photoUrl": "https://lh3.googleusercontent.com/a/default-user=s64",
      "userId": "09749566900557652478"
     },
     "user_tz": -180
    },
    "id": "OkDL7tXSpx46"
   },
   "outputs": [],
   "source": [
    "logging.basicConfig(\n",
    "    format='%(asctime)s - %(name)s - %(levelname)s - %(message)s', level=logging.INFO\n",
    ")\n",
    "\n",
    "logger = logging.getLogger()"
   ]
  },
  {
   "cell_type": "code",
   "execution_count": 5,
   "metadata": {},
   "outputs": [],
   "source": [
    "name_of_files = os.listdir('data')"
   ]
  },
  {
   "cell_type": "code",
   "execution_count": 6,
   "metadata": {
    "scrolled": true
   },
   "outputs": [],
   "source": [
    "ds = pd.read_json(f\"data/{name_of_files[0]}\") # We create dataframe of first element of file\n",
    "for el in name_of_files[1:]:\n",
    "    ds = pd.concat([ds, pd.read_json(f'data/{el}')], ignore_index=True) # we add elements in datafame except first file\n"
   ]
  },
  {
   "cell_type": "markdown",
   "metadata": {
    "id": "G7pf_jBYEcY_"
   },
   "source": [
    "# Новый раздел"
   ]
  },
  {
   "cell_type": "code",
   "execution_count": 7,
   "metadata": {
    "executionInfo": {
     "elapsed": 616,
     "status": "ok",
     "timestamp": 1647875641404,
     "user": {
      "displayName": "Denis Akatov",
      "photoUrl": "https://lh3.googleusercontent.com/a/default-user=s64",
      "userId": "09749566900557652478"
     },
     "user_tz": -180
    },
    "id": "xtMtjfb3EPnk"
   },
   "outputs": [],
   "source": [
    "new = ds.copy().sort_values(by = ['product_group_name','product_price'])[['product_group_name', 'product_name','name_store','product_human_volume','product_price', 'category_name']]"
   ]
  },
  {
   "cell_type": "markdown",
   "metadata": {
    "id": "UtAH8G3vsJ5K"
   },
   "source": [
    "Уберем сокращения"
   ]
  },
  {
   "cell_type": "code",
   "execution_count": 29,
   "metadata": {
    "executionInfo": {
     "elapsed": 378,
     "status": "ok",
     "timestamp": 1647875701696,
     "user": {
      "displayName": "Denis Akatov",
      "photoUrl": "https://lh3.googleusercontent.com/a/default-user=s64",
      "userId": "09749566900557652478"
     },
     "user_tz": -180
    },
    "id": "Upyg-o5X6_V4"
   },
   "outputs": [],
   "source": [
    "def search(df, qstn):\n",
    "    words = [word for word in qstn.split() if word.isalpha()]\n",
    "    result = []\n",
    "    df['product_name_for_search'] = df['product_name'].str.lower()\n",
    "    \n",
    "    if len(words) == 1:\n",
    "        result = df[df[\"product_name_for_search\"].str.contains(qstn.lower())][['product_name',\n",
    "                                        'name_store','product_price', 'product_human_volume', 'category_name']]\n",
    "        if len(result['product_name']) == 0:\n",
    "            return ('Ничего не найдено. Попробуйте уточнить запрос. ')\n",
    "        result = result.to_json(force_ascii=False)\n",
    "        result = json.loads(result)\n",
    "    else:\n",
    "        first = df[df[\"product_name_for_search\"].str.contains(words[0].lower())][['product_name',\n",
    "                                        'name_store','product_price', 'product_human_volume', 'category_name', 'product_name_for_search']]\n",
    "        first['product_name_for_search'] = df['product_name'].str.lower()\n",
    "\n",
    "        for i in words[1:]:\n",
    "            first = first[first[\"product_name_for_search\"].str.contains(i.lower())][['product_name','name_store','product_price', 'product_human_volume', 'category_name', 'product_name_for_search']]\n",
    "#             print(first)\n",
    "            if len(first['product_name']) == 0:\n",
    "                return ('1 Ничего не найдено. Попробуйте уточнить запрос.')\n",
    "        first = first[['product_name','name_store','product_price', 'product_human_volume']]\n",
    "        \n",
    "        result = first.to_json(force_ascii=False)\n",
    "        result = json.loads(result) \n",
    "    \n",
    "    result = pd.DataFrame(result) \n",
    "    firsts_list = []\n",
    "    \n",
    "    for i in result['product_name']:\n",
    "        if words[0].lower() == i.split(\" \")[0].lower():\n",
    "            firsts_list.append(i)\n",
    "            \n",
    "    res1 = result.loc[result['product_name'].isin(firsts_list)]\n",
    "    res2 = result.loc[~result['product_name'].isin(firsts_list)]\n",
    "    \n",
    "    result = pd.concat([res1, res2], axis=0)\n",
    "    result_groupby = pd.DataFrame(result).groupby(result['product_name'], sort=False).groups\n",
    "    res = []\n",
    "    \n",
    "#     print(df.keys())\n",
    "    \n",
    "    for i in result_groupby:\n",
    "#         new_main_category = 0\n",
    "#         print(new_main_category)\n",
    "        res.append(f\"<b>{i}</b>:\\n\")\n",
    "        for j in result[result['product_name'] == i]['product_name'].index:\n",
    "            res.append(f\"- в магазине {result['name_store'][j]} по цене {str(result['product_price'][j])} за {result['product_human_volume'][j]}\\n\")\n",
    "#         res.append(f\"Категория: {category_links[result['category_name'][j]]} \\n\\n\")\n",
    "        res.append(\"\\n\")\n",
    "#     res.append(\"\\n\")\n",
    "        \n",
    "    \n",
    "    \n",
    "    return(''.join(res)[:3950])\n"
   ]
  },
  {
   "cell_type": "markdown",
   "metadata": {},
   "source": [
    "Проверка"
   ]
  },
  {
   "cell_type": "markdown",
   "metadata": {
    "id": "dKOtvLg7p3Bh"
   },
   "source": [
    "Вопрос - ответ"
   ]
  },
  {
   "cell_type": "code",
   "execution_count": 34,
   "metadata": {
    "executionInfo": {
     "elapsed": 470,
     "status": "ok",
     "timestamp": 1647875709514,
     "user": {
      "displayName": "Denis Akatov",
      "photoUrl": "https://lh3.googleusercontent.com/a/default-user=s64",
      "userId": "09749566900557652478"
     },
     "user_tz": -180
    },
    "id": "EHyARSDHDjit"
   },
   "outputs": [],
   "source": [
    "# Define a few command handlers. These usually take the two arguments update and\n",
    "# context. Error handlers also receive the raised TelegramError object in error.\n",
    "def start(update: Update, context: CallbackContext):\n",
    "    update.message.reply_text('Привет. Меня зовут Сара! Я чатбот сервиса Сарафан. Я могу помочь сравнить цены на товары из разных магазинов.')\n",
    "\n",
    "def echo(update: Update, context: CallbackContext):\n",
    "    qstn = update.message.text    \n",
    "    tg_analytic.statistics(update.message.from_user.id, update.message.message_id, update.message.text)\n",
    "    \n",
    "    try:\n",
    "        update.message.reply_text(f'{search(new, qstn)}\\nЗаказать можно на сайте: www.sarawan.ru\\nСледить за новостями: https://t.me/sarawanru',\n",
    "                                     parse_mode=ParseMode.HTML)\n",
    "    except:\n",
    "        update.message.reply_text(f'Ничего не найдено. Попробуйте уточнить поисковый запрос.\\nЗаказать на сайте - sarawan.ru\\nhttps://t.me/sarawanru')"
   ]
  },
  {
   "cell_type": "markdown",
   "metadata": {
    "id": "vX1EIXPyp5kp"
   },
   "source": [
    "Запускаем телеграм"
   ]
  },
  {
   "cell_type": "code",
   "execution_count": 35,
   "metadata": {
    "colab": {
     "background_save": true,
     "base_uri": "https://localhost:8080/"
    },
    "id": "_6KaPmhep7t0"
   },
   "outputs": [
    {
     "name": "stderr",
     "output_type": "stream",
     "text": [
      "2022-06-17 10:29:33,494 - apscheduler.scheduler - INFO - Scheduler started\n",
      "2022-06-17 10:31:32,827 - telegram.ext.updater - INFO - Received signal 2 (SIGINT), stopping...\n",
      "2022-06-17 10:31:32,830 - apscheduler.scheduler - INFO - Scheduler has been shut down\n"
     ]
    }
   ],
   "source": [
    "updater = Updater(\"5005226612:AAHrkDfFcs9jmwo7cxTi6iCcOoSc25bCRXY\", use_context=True) #Real token\n",
    "# updater = Updater(\"5584200084:AAGnj5E7kPeowBTLBpxT4zoIZQjTQbN3wd8\", use_context=True) #Test token\n",
    "dispatcher = updater.dispatcher\n",
    "\n",
    "# on different commands - answer in Telegram\n",
    "dispatcher.add_handler(CommandHandler(\"start\", start))\n",
    "dispatcher.add_handler(MessageHandler(Filters.text & ~Filters.command, echo))\n",
    "\n",
    "# Start the Bot\n",
    "updater.start_polling()\n",
    "updater.idle()"
   ]
  },
  {
   "cell_type": "code",
   "execution_count": null,
   "metadata": {
    "id": "IVnkEyiNT9_t"
   },
   "outputs": [],
   "source": []
  }
 ],
 "metadata": {
  "colab": {
   "authorship_tag": "ABX9TyPxmR7JNsGdvfBMghgHZ/dd",
   "collapsed_sections": [],
   "mount_file_id": "1-7MUAqjG8ljtvpQn_NJ5nAeTFqnwXDWA",
   "name": "sara_bot.ipynb\"",
   "provenance": [
    {
     "file_id": "1KzegxIa_0YoStpsOvdYSzpe76oRHF-rj",
     "timestamp": 1635327411942
    }
   ],
   "version": ""
  },
  "kernelspec": {
   "display_name": "Python 3 (ipykernel)",
   "language": "python",
   "name": "python3"
  },
  "language_info": {
   "codemirror_mode": {
    "name": "ipython",
    "version": 3
   },
   "file_extension": ".py",
   "mimetype": "text/x-python",
   "name": "python",
   "nbconvert_exporter": "python",
   "pygments_lexer": "ipython3",
   "version": "3.9.12"
  }
 },
 "nbformat": 4,
 "nbformat_minor": 1
}
